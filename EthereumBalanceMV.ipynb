{
 "cells": [
  {
   "cell_type": "code",
   "execution_count": 1,
   "metadata": {
    "collapsed": false
   },
   "outputs": [
    {
     "name": "stdout",
     "output_type": "stream",
     "text": [
      "Enter your ETH addresses, separated by space: 0x05718f61871c7b8af6d3d08c655bbac233c818eb 0x64e36cc52a26b76d752758bf3d0a007af7afc0ed\n",
      "\t\n",
      "Display current market value in (e.g. ZEUR): ZUSD\n",
      "\t\n",
      "0x05718f61871c7b8af6d3d08c655bbac233c818eb: \n",
      "\t103.8739 ETH\n",
      "\t1440.64 ZUSD\n",
      "0x64e36cc52a26b76d752758bf3d0a007af7afc0ed: \n",
      "\t5.0 ETH\n",
      "\t69.35 ZUSD\n"
     ]
    }
   ],
   "source": [
    "import urllib2\n",
    "import ast\n",
    "\n",
    "# Ethereum Balance and Market Value Calculator\n",
    "# This program was written as part of the \"Complete Python Bootcamp\" course on udemy: \n",
    "# https://www.udemy.com/complete-python-bootcamp/\n",
    "# It allows the users to quickly check the current balance of it's ethereum addresses and the\n",
    "# current market value in the preferred currency (all currencies listed on kraken.com are supported).\n",
    "# No need to run a ethereum node on the machine the program is executed\n",
    "# Example ETH addresses were selected randomly and do not represent my personal holdings in the currency\n",
    "\n",
    "accinput = raw_input('Enter your ETH addresses, separated by space: ')\n",
    "print '\\t'\n",
    "toccy = raw_input('Display current market value in (e.g. ZEUR): ')\n",
    "print '\\t'\n",
    "acclist = accinput.split()\n",
    "\n",
    "def get_fxrates(a,b):\n",
    "        # uses kraken api to get the ETH to X exchange rate\n",
    "        url = 'https://api.kraken.com/0/public/Ticker?pair='+ a + b\n",
    "        response = urllib2.urlopen(url)\n",
    "        fxrate= ast.literal_eval(response.read())\n",
    "        response.close()   \n",
    "        return fxrate['result'][a+b]['b'][0]\n",
    "\n",
    "\n",
    "class account(object):\n",
    "\n",
    "    def __init__(self,ethaddress,balance=0,marketvalue=0):\n",
    "        self.ethaddress = ethaddress\n",
    "        self.balance = balance\n",
    "        self.marketvalue = marketvalue\n",
    "        \n",
    "    def get_balance(self):\n",
    "        # uses etherscan.io api to check the current balance\n",
    "        url = 'https://api.etherscan.io/api?module=account&action=balance&address='+ self.ethaddress\n",
    "        hdr = {'User-Agent': 'Mozilla/5.0 (X11; Linux x86_64) AppleWebKit/537.11 (KHTML, like Gecko) Chrome/23.0.1271.64 Safari/537.11',\n",
    "       'Accept': 'text/html,application/xhtml+xml,application/xml;q=0.9,*/*;q=0.8',\n",
    "       'Accept-Charset': 'ISO-8859-1,utf-8;q=0.7,*;q=0.3',\n",
    "       'Accept-Encoding': 'none',\n",
    "       'Accept-Language': 'en-US,en;q=0.8',\n",
    "       'Connection': 'keep-alive'}\n",
    "\n",
    "        req = urllib2.Request(url, headers=hdr)\n",
    "        response = urllib2.urlopen(req)\n",
    "        content = ast.literal_eval(response.read())\n",
    "        response.close()\n",
    "        self.balance = round(float(content['result'])/10e+17,4)      \n",
    "        return self.balance\n",
    "    \n",
    "    def calc_marketvalue(self,x='XETH',y='ZEUR'):\n",
    "        self.x = x\n",
    "        self.y = y\n",
    "        rate = float(get_fxrates(self.x,self.y))\n",
    "        self.marketvalue = round(self.balance*rate,2)\n",
    "        return self.marketvalue        \n",
    "\n",
    "for i in acclist:\n",
    "    a = account(i)\n",
    "    print a.ethaddress + ': '\n",
    "    print '\\t' + str(a.get_balance()) +' ETH'\n",
    "    print '\\t'+ str(a.calc_marketvalue('XETH',toccy)) + ' ' + toccy"
   ]
  },
  {
   "cell_type": "code",
   "execution_count": null,
   "metadata": {
    "collapsed": true
   },
   "outputs": [],
   "source": []
  }
 ],
 "metadata": {
  "anaconda-cloud": {},
  "kernelspec": {
   "display_name": "Python [default]",
   "language": "python",
   "name": "python2"
  },
  "language_info": {
   "codemirror_mode": {
    "name": "ipython",
    "version": 2
   },
   "file_extension": ".py",
   "mimetype": "text/x-python",
   "name": "python",
   "nbconvert_exporter": "python",
   "pygments_lexer": "ipython2",
   "version": "2.7.12"
  }
 },
 "nbformat": 4,
 "nbformat_minor": 0
}
