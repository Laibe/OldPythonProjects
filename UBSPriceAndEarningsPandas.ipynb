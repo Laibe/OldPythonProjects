{
 "cells": [
  {
   "cell_type": "code",
   "execution_count": 1,
   "metadata": {
    "collapsed": true
   },
   "outputs": [],
   "source": [
    "#Visualisiations for UBS's Prices & Earnings data set\n",
    "#https://www.ubs.com/microsites/prices-earnings/prices-earnings.html \n",
    "import numpy as np\n",
    "import pandas as pd\n",
    "from pandas import DataFrame,Series\n",
    "from numpy.random import randn\n",
    "# Stats import\n",
    "from scipy import stats\n",
    "# Plotting\n",
    "import matplotlib.pyplot as plt\n",
    "import seaborn as sns\n",
    "%matplotlib inline"
   ]
  },
  {
   "cell_type": "code",
   "execution_count": 2,
   "metadata": {
    "collapsed": false
   },
   "outputs": [],
   "source": [
    "## Add to dataset : \n",
    "#Distance to montpellier and Grossbottwar in hours by train and hours by car.\n",
    "#Population city and area\n",
    "\n",
    "df_ubs = pd.read_excel('ubs-prices-and-earnings-opendata.xlsx',parse_cols=4\n",
    "                       ,names=['Year','City','MainSection','SubSection','Value']\n",
    "                      ,convert_floats=False)"
   ]
  },
  {
   "cell_type": "code",
   "execution_count": 3,
   "metadata": {
    "collapsed": false
   },
   "outputs": [],
   "source": [
    "df_dpp = df_ubs[(df_ubs.MainSection == 'General: Domestic Purchasing Power') \n",
    "                & (df_ubs.SubSection == 'Net, hourly (New York = 100)') \n",
    "                & (df_ubs.City.isin(['London','Berlin','Zurich','Geneva','Luxembourg','Paris','Munich']))\n",
    "                &(df_ubs.Year == 2015)].pivot(index='City',columns='MainSection',values='Value')\n",
    "df_earnnet = df_ubs[(df_ubs.MainSection == 'Earnings: Average hourly (net)') \n",
    "                & (df_ubs.SubSection == '(USD)') \n",
    "                & (df_ubs.City.isin(['London','Berlin','Zurich','Geneva','Luxembourg','Paris','Munich']))\n",
    "                & (df_ubs.Year == 2015)].pivot(index='City',columns='MainSection',values='Value')\n",
    "df_housing = df_ubs[(df_ubs.MainSection == 'Prices: Housing') \n",
    "                & (df_ubs.SubSection == 'Unfurnished 3-room Apartment, medium (USD)') \n",
    "                & (df_ubs.City.isin(['London','Berlin','Zurich','Geneva','Luxembourg','Paris','Munich']))\n",
    "                & (df_ubs.Year == 2015)].pivot(index='City',columns='MainSection',values='Value')\n",
    "df_iphone = df_ubs[(df_ubs.MainSection == 'General: Working time req to buy') \n",
    "                & (df_ubs.SubSection == 'iPhone 6 16GB, net (hours)') \n",
    "                & (df_ubs.City.isin(['London','Berlin','Zurich','Geneva','Luxembourg','Paris','Munich']))\n",
    "                & (df_ubs.Year == 2015)].pivot(index='City',columns='MainSection',values='Value')"
   ]
  },
  {
   "cell_type": "code",
   "execution_count": 4,
   "metadata": {
    "collapsed": false
   },
   "outputs": [],
   "source": [
    "df_dpp_earnnet = pd.concat([df_dpp,df_earnnet],axis=1,join='inner').reset_index()\n",
    "df_housing_earnnet = pd.concat([df_housing,df_earnnet],axis=1,join='inner').reset_index()\n",
    "df_comb = pd.concat([df_dpp,df_housing,df_earnnet],axis=1,join='inner').reset_index()"
   ]
  },
  {
   "cell_type": "code",
   "execution_count": 5,
   "metadata": {
    "collapsed": false,
    "scrolled": true
   },
   "outputs": [
    {
     "data": {
      "text/plain": [
       "<seaborn.axisgrid.FacetGrid at 0x7f8843628450>"
      ]
     },
     "execution_count": 5,
     "metadata": {},
     "output_type": "execute_result"
    },
    {
     "data": {
      "image/png": "[encoded data removed]",
      "text/plain": [
       "<matplotlib.figure.Figure at 0x7f8843628890>"
      ]
     },
     "metadata": {},
     "output_type": "display_data"
    }
   ],
   "source": [
    "sns.lmplot('General: Domestic Purchasing Power','Earnings: Average hourly (net)',data= df_comb,fit_reg =False,hue='City',)\n"
   ]
  },
  {
   "cell_type": "code",
   "execution_count": 6,
   "metadata": {
    "collapsed": false
   },
   "outputs": [
    {
     "data": {
      "text/plain": [
       "<seaborn.axisgrid.FacetGrid at 0x7f884249f050>"
      ]
     },
     "execution_count": 6,
     "metadata": {},
     "output_type": "execute_result"
    },
    {
     "data": {
      "image/png": "[encoded data removed]",
      "text/plain": [
       "<matplotlib.figure.Figure at 0x7f88426d1dd0>"
      ]
     },
     "metadata": {},
     "output_type": "display_data"
    }
   ],
   "source": [
    "sns.lmplot('Prices: Housing','Earnings: Average hourly (net)',data= df_comb,fit_reg =False,hue='City')"
   ]
  },
  {
   "cell_type": "code",
   "execution_count": 7,
   "metadata": {
    "collapsed": true
   },
   "outputs": [],
   "source": [
    "df_housing_earnnet['Working time req to rent 3-room']=(df_housing_earnnet['Prices: Housing']/df_housing_earnnet['Earnings: Average hourly (net)'])"
   ]
  },
  {
   "cell_type": "code",
   "execution_count": 8,
   "metadata": {
    "collapsed": false
   },
   "outputs": [
    {
     "data": {
      "text/html": [
       "<div>\n",
       "<table border=\"1\" class=\"dataframe\">\n",
       "  <thead>\n",
       "    <tr style=\"text-align: right;\">\n",
       "      <th>MainSection</th>\n",
       "      <th>City</th>\n",
       "      <th>Prices: Housing</th>\n",
       "      <th>Earnings: Average hourly (net)</th>\n",
       "      <th>Working time req to rent 3-room</th>\n",
       "    </tr>\n",
       "  </thead>\n",
       "  <tbody>\n",
       "    <tr>\n",
       "      <th>6</th>\n",
       "      <td>Zurich</td>\n",
       "      <td>2390</td>\n",
       "      <td>38.4</td>\n",
       "      <td>62.2396</td>\n",
       "    </tr>\n",
       "    <tr>\n",
       "      <th>0</th>\n",
       "      <td>Berlin</td>\n",
       "      <td>1140</td>\n",
       "      <td>17.5</td>\n",
       "      <td>65.1429</td>\n",
       "    </tr>\n",
       "    <tr>\n",
       "      <th>1</th>\n",
       "      <td>Geneva</td>\n",
       "      <td>2700</td>\n",
       "      <td>36.6</td>\n",
       "      <td>73.7705</td>\n",
       "    </tr>\n",
       "    <tr>\n",
       "      <th>4</th>\n",
       "      <td>Munich</td>\n",
       "      <td>1580</td>\n",
       "      <td>18.5</td>\n",
       "      <td>85.4054</td>\n",
       "    </tr>\n",
       "    <tr>\n",
       "      <th>3</th>\n",
       "      <td>Luxembourg</td>\n",
       "      <td>2430</td>\n",
       "      <td>26.3</td>\n",
       "      <td>92.3954</td>\n",
       "    </tr>\n",
       "  </tbody>\n",
       "</table>\n",
       "</div>"
      ],
      "text/plain": [
       "MainSection        City Prices: Housing Earnings: Average hourly (net)  \\\n",
       "6                Zurich            2390                           38.4   \n",
       "0                Berlin            1140                           17.5   \n",
       "1                Geneva            2700                           36.6   \n",
       "4                Munich            1580                           18.5   \n",
       "3            Luxembourg            2430                           26.3   \n",
       "\n",
       "MainSection Working time req to rent 3-room  \n",
       "6                                   62.2396  \n",
       "0                                   65.1429  \n",
       "1                                   73.7705  \n",
       "4                                   85.4054  \n",
       "3                                   92.3954  "
      ]
     },
     "execution_count": 8,
     "metadata": {},
     "output_type": "execute_result"
    }
   ],
   "source": [
    "df_housing_earnnet.sort_values(by='Working time req to rent 3-room',inplace=True)\n",
    "# sorting before plotting\n",
    "df_housing_earnnet.head()"
   ]
  },
  {
   "cell_type": "code",
   "execution_count": 9,
   "metadata": {
    "collapsed": false
   },
   "outputs": [
    {
     "data": {
      "text/plain": [
       "<matplotlib.axes._subplots.AxesSubplot at 0x7f88428c4950>"
      ]
     },
     "execution_count": 9,
     "metadata": {},
     "output_type": "execute_result"
    },
    {
     "data": {
      "image/png": "[encoded data removed]",
      "text/plain": [
       "<matplotlib.figure.Figure at 0x7f8843150550>"
      ]
     },
     "metadata": {},
     "output_type": "display_data"
    }
   ],
   "source": [
    "sns.barplot(x='City',y='Working time req to rent 3-room',data= df_housing_earnnet,)\n"
   ]
  },
  {
   "cell_type": "code",
   "execution_count": 10,
   "metadata": {
    "collapsed": false
   },
   "outputs": [],
   "source": [
    "df_iphone = df_iphone.reset_index()"
   ]
  },
  {
   "cell_type": "code",
   "execution_count": 11,
   "metadata": {
    "collapsed": false
   },
   "outputs": [
    {
     "data": {
      "text/plain": [
       "<matplotlib.axes._subplots.AxesSubplot at 0x7f884259f710>"
      ]
     },
     "execution_count": 11,
     "metadata": {},
     "output_type": "execute_result"
    },
    {
     "data": {
      "image/png": "[encoded data removed]",
      "text/plain": [
       "<matplotlib.figure.Figure at 0x7f8842f65350>"
      ]
     },
     "metadata": {},
     "output_type": "display_data"
    }
   ],
   "source": [
    "sns.barplot(x='City',y='General: Working time req to buy',data=df_iphone)"
   ]
  },
  {
   "cell_type": "code",
   "execution_count": null,
   "metadata": {
    "collapsed": true
   },
   "outputs": [],
   "source": []
  }
 ],
 "metadata": {
  "kernelspec": {
   "display_name": "Python [default]",
   "language": "python",
   "name": "python2"
  },
  "language_info": {
   "codemirror_mode": {
    "name": "ipython",
    "version": 2
   },
   "file_extension": ".py",
   "mimetype": "text/x-python",
   "name": "python",
   "nbconvert_exporter": "python",
   "pygments_lexer": "ipython2",
   "version": "2.7.12"
  }
 },
 "nbformat": 4,
 "nbformat_minor": 0
}
